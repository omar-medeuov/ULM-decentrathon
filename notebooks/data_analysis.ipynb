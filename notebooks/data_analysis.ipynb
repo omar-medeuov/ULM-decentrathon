{
 "cells": [
  {
   "cell_type": "markdown",
   "id": "2affe834",
   "metadata": {},
   "source": [
    "# Анализ обезличенных геотреков поездок\n",
    "\n",
    "В этом ноутбуке демонстрируются ключевые этапы анализа, визуализации и оптимизации распределения водителей на основе обезличенных данных поездок."
   ]
  },
  {
   "cell_type": "code",
   "execution_count": null,
   "id": "239c7023",
   "metadata": {},
   "outputs": [],
   "source": [
    "# Необходимые библиотеки::\n",
    "import pandas as pd\n",
    "import matplotlib.pyplot as plt\n",
    "import seaborn as sns\n",
    "import h3\n",
    "from folium.plugins import HeatMap\n",
    "import folium"
   ]
  },
  {
   "cell_type": "markdown",
   "id": "d0cf39dd",
   "metadata": {},
   "source": [
    "## Загрузка и предварительный просмотр данных"
   ]
  },
  {
   "cell_type": "code",
   "execution_count": null,
   "id": "6b20a8c1",
   "metadata": {},
   "outputs": [],
   "source": [
    "df = pd.read_csv('../data/raw/raw_dataset.csv')\n",
    "df.head()"
   ]
  },
  {
   "cell_type": "markdown",
   "id": "50f7c2bb",
   "metadata": {},
   "source": [
    "## Присвоение H3 индексов"
   ]
  },
  {
   "cell_type": "code",
   "execution_count": null,
   "id": "216e37b1",
   "metadata": {},
   "outputs": [],
   "source": [
    "df['h3_index'] = df.apply(lambda row: h3.geo_to_h3(row['lat'], row['lng'], 9), axis=1)\n",
    "df.head()"
   ]
  },
  {
   "cell_type": "markdown",
   "id": "0984a23e",
   "metadata": {},
   "source": [
    "## Выявление популярных маршрутов"
   ]
  },
  {
   "cell_type": "code",
   "execution_count": null,
   "id": "da65fd1f",
   "metadata": {},
   "outputs": [],
   "source": [
    "# группировка по старту и финишу\n",
    "popular_routes = df.groupby(['randomized_id', 'h3_index']).size().reset_index(name='count')\n",
    "popular_routes = popular_routes.sort_values('count', ascending=False)\n",
    "popular_routes.head()"
   ]
  },
  {
   "cell_type": "markdown",
   "id": "7c48c0ca",
   "metadata": {},
   "source": [
    "## Тепловая карта спроса"
   ]
  },
  {
   "cell_type": "code",
   "execution_count": null,
   "id": "4df87eab",
   "metadata": {},
   "outputs": [],
   "source": [
    "h3_counts = df['h3_index'].value_counts().reset_index()\n",
    "h3_counts.columns = ['h3_index', 'count']\n",
    "h3_counts['lat'] = h3_counts['h3_index'].apply(lambda h: h3.h3_to_geo(h)[0])\n",
    "h3_counts['lng'] = h3_counts['h3_index'].apply(lambda h: h3.h3_to_geo(h)[1])\n",
    "plt.figure(figsize=(10, 8))\n",
    "sns.scatterplot(data=h3_counts, x='lng', y='lat', size='count', hue='count', palette='YlGnBu', legend=False, sizes=(20, 200))\n",
    "plt.title('Тепловая карта спроса (по H3)')\n",
    "plt.show()"
   ]
  },
  {
   "cell_type": "markdown",
   "id": "d250f214",
   "metadata": {},
   "source": [
    "## Интерактивная тепловая карта (используется folium)"
   ]
  },
  {
   "cell_type": "code",
   "execution_count": null,
   "id": "c4c548b0",
   "metadata": {},
   "outputs": [],
   "source": [
    "center_lat = h3_counts['lat'].mean()\n",
    "center_lng = h3_counts['lng'].mean()\n",
    "m = folium.Map(location=[center_lat, center_lng], zoom_start=12)\n",
    "heat_data = h3_counts[['lat', 'lng', 'count']].values.tolist()\n",
    "HeatMap(heat_data, radius=15, blur=10, max_zoom=1).add_to(m)\n",
    "m"
   ]
  },
  {
   "cell_type": "markdown",
   "id": "e1c55fe4",
   "metadata": {},
   "source": [
    "## Оптимизация распределения водителей"
   ]
  },
  {
   "cell_type": "code",
   "execution_count": null,
   "id": "8d4cb43d",
   "metadata": {},
   "outputs": [],
   "source": [
    "total_drivers = 100\n",
    "h3_counts['driver_allocation'] = (h3_counts['count'] / h3_counts['count'].sum() * total_drivers).round().astype(int)\n",
    "h3_counts[['h3_index', 'count', 'driver_allocation']].sort_values('driver_allocation', ascending=False).head(10)"
   ]
  },
  {
   "cell_type": "markdown",
   "id": "fd9c23b8",
   "metadata": {},
   "source": [
    "## Сценарии безопасности (пример: резкие изменения направления)"
   ]
  },
  {
   "cell_type": "code",
   "execution_count": null,
   "id": "9180d639",
   "metadata": {},
   "outputs": [],
   "source": [
    "df = df.sort_values(['randomized_id', 'azm'])\n",
    "df['azm_prev'] = df.groupby('randomized_id')['azm'].shift(1)\n",
    "df['azm_diff'] = (df['azm'] - df['azm_prev']).abs()\n",
    "sudden_turns = df[df['azm_diff'] > 90]\n",
    "sudden_turns[['randomized_id', 'lat', 'lng', 'spd', 'azm', 'azm_diff']].head()"
   ]
  }
 ],
 "metadata": {
  "language_info": {
   "name": "python"
  }
 },
 "nbformat": 4,
 "nbformat_minor": 5
}
